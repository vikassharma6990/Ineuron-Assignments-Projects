{
 "cells": [
  {
   "cell_type": "markdown",
   "id": "94bbefb4",
   "metadata": {},
   "source": [
    "##### 1.What are the two values of the Boolean data type? How do you write them?"
   ]
  },
  {
   "cell_type": "code",
   "execution_count": 4,
   "id": "322fd55a",
   "metadata": {},
   "outputs": [
    {
     "data": {
      "text/plain": [
       "False"
      ]
     },
     "execution_count": 4,
     "metadata": {},
     "output_type": "execute_result"
    }
   ],
   "source": [
    "#Two values of different Boolean Data Type\n",
    "#True: When an statement is True.The expression returns. The integer value of True is 1.\n",
    "\n",
    "5>4\n",
    "#Returns True is a boolean value.\n",
    "#False: When an Statement is False. The integer value of False is 0.\n",
    "\n",
    "6<3\n",
    "#Returns False is a boolean value."
   ]
  },
  {
   "cell_type": "code",
   "execution_count": 5,
   "id": "3929cbc9",
   "metadata": {},
   "outputs": [],
   "source": [
    "#2. What are the three different types of Boolean operators?\n",
    "\n",
    "#AND,OR, & NOT\n"
   ]
  },
  {
   "cell_type": "markdown",
   "id": "bfa5ed62",
   "metadata": {},
   "source": [
    "# 3. Make a list of each Boolean operator's truth tables\n",
    "#(i.e. every possible combination of Boolean values for the operator and what it evaluate ).\n",
    "\n",
    "#AND :- \n",
    "#it says if all the inputs are true than result will be true other wise false.\n",
    "a b R=(a.b)\n",
    "0 0 0\n",
    "0 1 0\n",
    "1 0 0\n",
    "1 1 1\n",
    "\n",
    "#OR:-\n",
    "#it says if all the values are false than result will be false other wise true.\n",
    "a b R=(a+b)\n",
    "0 0 0\n",
    "0 1 1\n",
    "1 0 1\n",
    "1 1 1\n",
    "#NOT: It is a uniary operator which change the result of true as False and False as True.\n",
    "a R=~a\n",
    "0 1\n",
    "1 0"
   ]
  },
  {
   "cell_type": "markdown",
   "id": "acc514b1",
   "metadata": {},
   "source": [
    "4. What are the values of the following expressions?\n",
    "a.(5 > 4) and (3 == 5)\n",
    "= True and False\n",
    "=False\n",
    "\n",
    "b. not (5 > 4)\n",
    "=not(True)\n",
    "=False\n",
    "\n",
    "c. (5 > 4) or (3 == 5)\n",
    "=True or False \n",
    "=True\n",
    "\n",
    "d. not ((5 > 4) or (3 == 5))\n",
    "=not(True)\n",
    "= False\n",
    "\n",
    "e. (True and True) and (True == False)\n",
    "=True and False\n",
    "=False\n",
    "\n",
    "f. (not False) or (not True)\n",
    "=True or False\n",
    "=True\n"
   ]
  },
  {
   "cell_type": "markdown",
   "id": "96ca92f0",
   "metadata": {},
   "source": [
    "5. What are the six comparison operators?\n",
    "Ans : Are boolean operator returns true or false\n",
    "1. Greater than(>)\n",
    "2. Less than(<)\n",
    "3. Greater than equals to(>=) value should be greater than or equals to\n",
    "4. Less than equals to(<=) \n",
    "5. Equals to(==)\n",
    "6. Not Equals to (!=)"
   ]
  },
  {
   "cell_type": "markdown",
   "id": "92f4ce97",
   "metadata": {},
   "source": [
    "6. How do you tell the difference between the equal to and assignment operators?Describe a condition and when you would use one.\n",
    "# \n",
    "a=24 #assignment operator which means a is 24\n",
    "\n",
    "#comparison operator equals to\n",
    "a==24\n",
    "returns true if a is 24.\n",
    "\n",
    "if we have to make initialization we will use = and if we have to do coparison than we will use ==.\n",
    "\n"
   ]
  },
  {
   "cell_type": "raw",
   "id": "ca044fac",
   "metadata": {},
   "source": [
    "7. Identify the three blocks in this code:\n",
    "#block 1\n",
    "spam = 0\n",
    "if spam == 10:# block 2\n",
    "    print('eggs')\n",
    "    if spam > 5:#block 3\n",
    "        print('bacon')\n",
    "    else:\n",
    "        print('ham')\n",
    "print('spam')\n",
    "print('spam')\n"
   ]
  },
  {
   "cell_type": "markdown",
   "id": "59d5f7fa",
   "metadata": {},
   "source": [
    "#8. Write code that prints Hello if 1 is stored in spam, prints Howdy if 2 is stored in spam, and prints Greetings! if anything else is stored in spam.\n",
    "spam=int(input(\"Enter a number:\"))\n",
    "if spam==1:\n",
    "    print(\"Hello\")\n",
    "elif spam==2:\n",
    "    print(\"Howdy\")\n",
    "else:\n",
    "    print(\"Greetings!!\")\n",
    "    "
   ]
  },
  {
   "cell_type": "markdown",
   "id": "6229262c",
   "metadata": {},
   "source": [
    "#9.If your programme is stuck in an endless loop, what keys you’ll press?\n",
    "Ans: \n",
    "    Ctrl+Pause/break or Ctrl+C\n"
   ]
  },
  {
   "cell_type": "markdown",
   "id": "d86482f6",
   "metadata": {},
   "source": [
    "10. How can you tell the difference between break and continue?\n",
    "break statement allows us to exit a loop when a condition is met. The continue statement allows us to skip part of a loop when a condition is met.\n"
   ]
  },
  {
   "cell_type": "code",
   "execution_count": 18,
   "id": "9f7e7028",
   "metadata": {},
   "outputs": [
    {
     "name": "stdout",
     "output_type": "stream",
     "text": [
      "10\n"
     ]
    }
   ],
   "source": [
    "# Break\n",
    "i=10\n",
    "while i>2:\n",
    "    print(i)\n",
    "    break #its an infinite loop but will get executed at once because of break"
   ]
  },
  {
   "cell_type": "code",
   "execution_count": 19,
   "id": "9f992290",
   "metadata": {},
   "outputs": [
    {
     "name": "stdout",
     "output_type": "stream",
     "text": [
      "K\n",
      "r\n",
      "s\n",
      "h\n",
      " \n",
      "N\n",
      "a\n",
      "k\n"
     ]
    }
   ],
   "source": [
    "#continue\n",
    "i=\"Krish Naik\"\n",
    "for t in range(len(i)):\n",
    "    if i[t]=='i':\n",
    "        continue #will skip i every time in string\n",
    "    else:\n",
    "        print(i[t])"
   ]
  },
  {
   "cell_type": "markdown",
   "id": "3e900ebc",
   "metadata": {},
   "source": [
    "##11. In a for loop, what is the difference between range(10), range(0, 10), and range(0, 10, 1)?\n",
    "all are same because range function syntax is:\n",
    "    range(start,stop,step)\n",
    "    default value of start is:0\n",
    "    default value of stop is:end-1\n",
    "    default value of step is 1"
   ]
  },
  {
   "cell_type": "code",
   "execution_count": 15,
   "id": "da0fa3f8",
   "metadata": {},
   "outputs": [
    {
     "name": "stdout",
     "output_type": "stream",
     "text": [
      "[1, 2, 3, 4, 5, 6, 7, 8, 9, 10]\n"
     ]
    }
   ],
   "source": [
    "#12. Write a short program that prints the numbers 1 to 10 using a for loop. \n",
    "#Then write an equivalent program that prints the numbers 1 to 10 using a while loop.\n",
    "print([i for i in range(1,11)])"
   ]
  },
  {
   "cell_type": "code",
   "execution_count": 17,
   "id": "a7bc792a",
   "metadata": {},
   "outputs": [
    {
     "name": "stdout",
     "output_type": "stream",
     "text": [
      "1\n",
      "2\n",
      "3\n",
      "4\n",
      "5\n",
      "6\n",
      "7\n",
      "8\n",
      "9\n",
      "10\n"
     ]
    }
   ],
   "source": [
    "i=1\n",
    "while i<11:\n",
    "    print(i)\n",
    "    i+=1"
   ]
  },
  {
   "cell_type": "markdown",
   "id": "d8e57d88",
   "metadata": {},
   "source": [
    "#13. If you had a function named bacon() inside a module named spam, how would you call it after importing spam?\n",
    "#import spam\n",
    "#spam.bacon()"
   ]
  },
  {
   "cell_type": "code",
   "execution_count": null,
   "id": "df029df8",
   "metadata": {},
   "outputs": [],
   "source": []
  }
 ],
 "metadata": {
  "kernelspec": {
   "display_name": "Python 3 (ipykernel)",
   "language": "python",
   "name": "python3"
  },
  "language_info": {
   "codemirror_mode": {
    "name": "ipython",
    "version": 3
   },
   "file_extension": ".py",
   "mimetype": "text/x-python",
   "name": "python",
   "nbconvert_exporter": "python",
   "pygments_lexer": "ipython3",
   "version": "3.9.7"
  }
 },
 "nbformat": 4,
 "nbformat_minor": 5
}
