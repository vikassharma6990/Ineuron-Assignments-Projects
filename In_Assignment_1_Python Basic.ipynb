{
 "cells": [
  {
   "cell_type": "raw",
   "id": "81bd4eb4",
   "metadata": {},
   "source": [
    "# 1. In the below elements which of them are values or an expression? eg:- values can be integer or string and expressions will be mathematical operators.\n",
    "Ans:\n",
    "*:- Operator\n",
    "'hello':-Values(String)\n",
    "-87.8:- Values (Float)\n",
    "-: -Operator\n",
    "/: -Operator\n",
    "+: -Operator\t\n",
    "6: -Values(string)"
   ]
  },
  {
   "cell_type": "markdown",
   "id": "3107e88d",
   "metadata": {},
   "source": [
    "###### 2. What is the difference between string and variable?\n"
   ]
  },
  {
   "cell_type": "code",
   "execution_count": 5,
   "id": "06f7ffd5",
   "metadata": {},
   "outputs": [],
   "source": [
    "var='alpha' # string in python \n",
    "# var is a variable holding a values i.e of string type which is with immutable property. \n",
    "# var is holding a value whenever required can be modified as a block of memory is reserved by the name var which is getting used \n",
    "#to hold any type of var.\n"
   ]
  },
  {
   "cell_type": "markdown",
   "id": "a008a6e1",
   "metadata": {},
   "source": [
    "###### 3. Describe three different data types."
   ]
  },
  {
   "cell_type": "code",
   "execution_count": 7,
   "id": "6ebf8f43",
   "metadata": {},
   "outputs": [
    {
     "data": {
      "text/plain": [
       "bool"
      ]
     },
     "execution_count": 7,
     "metadata": {},
     "output_type": "execute_result"
    }
   ],
   "source": [
    "# Numeric\n",
    "# String\n",
    "# Boolean\n",
    "\n",
    "#Numeric: Leverage us to store any type of numberical value such as Integers, Floats, Complex numbers etc.\n",
    "#int:\n",
    "a=29\n",
    "b=-34\n",
    "\n",
    "#Floats\n",
    "\n",
    "a=34.6\n",
    "b=-47.8\n",
    "\n",
    "#Complex Numbers:\n",
    "\n",
    "a=34+5j\n",
    "\n",
    "# String: The sequence of characters enclosed in \"\"(double quotes),''(single quotes) are of string type.\n",
    "a=\"alpha beta gamma\"\n",
    "# Pyhton support single line string and multiline string;\n",
    "# Single Line String: can be created using (\" \",' ')\n",
    "# Multi Line String: can be created  using (''' ''',\"\"\" \"\"\")\n",
    "\n",
    "#Boolean: is a data type supports two type of value i.e either zero or one where zero means False and 1 means True.\n",
    "a =True #Boolean\n",
    "type(a)"
   ]
  },
  {
   "cell_type": "code",
   "execution_count": 9,
   "id": "7021880d",
   "metadata": {},
   "outputs": [
    {
     "name": "stdout",
     "output_type": "stream",
     "text": [
      "enter the radius(in cm):2\n",
      "The Area of Circle is: 12.56 sq cm\n"
     ]
    }
   ],
   "source": [
    "#4. What is an expression made up of? What do all expressions do?\n",
    "#an expression is made up of operator and operand where operators are +,-,*,/,//,% and operands are the variable is holding some value.\n",
    "# All experasion is logical combination which leads to the solution of a logical problem.\n",
    "pi=3.14\n",
    "r=int(input(\"enter the radius(in cm):\"))\n",
    "area_of_circle=3.14 *r*r\n",
    "print(\"The Area of Circle is:\",area_of_circle,\"sq cm\")"
   ]
  },
  {
   "cell_type": "code",
   "execution_count": 10,
   "id": "49da0c0a",
   "metadata": {},
   "outputs": [
    {
     "data": {
      "text/plain": [
       "84.78"
      ]
     },
     "execution_count": 10,
     "metadata": {},
     "output_type": "execute_result"
    }
   ],
   "source": [
    "#5. This assignment statements, like spam = 10. What is the difference between an expression and a statement? \n",
    "#expression: it an operation value that leads something to an outcome such as \n",
    "a=3.14*3*3*3\n",
    "a"
   ]
  },
  {
   "cell_type": "code",
   "execution_count": 11,
   "id": "6aaf354e",
   "metadata": {},
   "outputs": [],
   "source": [
    "#statements :hold a value i.e. an action and a command.\n",
    "\n",
    "a=\"hello\""
   ]
  },
  {
   "cell_type": "code",
   "execution_count": 12,
   "id": "dfeb2c84",
   "metadata": {},
   "outputs": [
    {
     "data": {
      "text/plain": [
       "22"
      ]
     },
     "execution_count": 12,
     "metadata": {},
     "output_type": "execute_result"
    }
   ],
   "source": [
    "#6. After running the following code, what does the variable bacon contain?\n",
    "bacon = 22\n",
    "bacon + 1 # value has incremneted here.\n",
    "bacon"
   ]
  },
  {
   "cell_type": "code",
   "execution_count": 13,
   "id": "169540e6",
   "metadata": {},
   "outputs": [
    {
     "data": {
      "text/plain": [
       "'spamspamspam'"
      ]
     },
     "execution_count": 13,
     "metadata": {},
     "output_type": "execute_result"
    }
   ],
   "source": [
    "#7. What should the values of the following two terms be?\n",
    "'spam' + 'spamspam'\n",
    "\n"
   ]
  },
  {
   "cell_type": "code",
   "execution_count": 14,
   "id": "7ede1f32",
   "metadata": {},
   "outputs": [
    {
     "data": {
      "text/plain": [
       "'spamspamspam'"
      ]
     },
     "execution_count": 14,
     "metadata": {},
     "output_type": "execute_result"
    }
   ],
   "source": [
    "'spam'*3"
   ]
  },
  {
   "cell_type": "code",
   "execution_count": 15,
   "id": "8e0c6137",
   "metadata": {},
   "outputs": [],
   "source": [
    "#8. Why is eggs a valid variable name while 100 is invalid?\n",
    "#because 'eggs' is fulfilling the rule to be an identifier but 100 cannot be an identifier as an identifier can never start with a number.\n",
    "eggs=100"
   ]
  },
  {
   "cell_type": "code",
   "execution_count": 16,
   "id": "0632e88b",
   "metadata": {},
   "outputs": [],
   "source": [
    "#9. What three functions can be used to get the integer, floating-point number, or string version of a value?\n",
    "#1. int()-integer function\n",
    "#2. float()-float function\n",
    "#3. str()- String function"
   ]
  },
  {
   "cell_type": "code",
   "execution_count": 17,
   "id": "6d38f917",
   "metadata": {},
   "outputs": [
    {
     "data": {
      "text/plain": [
       "'I have eaten 99 burritos.'"
      ]
     },
     "execution_count": 17,
     "metadata": {},
     "output_type": "execute_result"
    }
   ],
   "source": [
    "#10. Why does this expression cause an error? How can you fix it?\n",
    "## 'I have eaten ' + 99 + ' burritos.'\n",
    "#As string can never be concatenated with integers.\n",
    "#to fix this:\n",
    "'I have eaten ' + '99' + ' burritos.'"
   ]
  }
 ],
 "metadata": {
  "kernelspec": {
   "display_name": "Python 3 (ipykernel)",
   "language": "python",
   "name": "python3"
  },
  "language_info": {
   "codemirror_mode": {
    "name": "ipython",
    "version": 3
   },
   "file_extension": ".py",
   "mimetype": "text/x-python",
   "name": "python",
   "nbconvert_exporter": "python",
   "pygments_lexer": "ipython3",
   "version": "3.9.7"
  }
 },
 "nbformat": 4,
 "nbformat_minor": 5
}
